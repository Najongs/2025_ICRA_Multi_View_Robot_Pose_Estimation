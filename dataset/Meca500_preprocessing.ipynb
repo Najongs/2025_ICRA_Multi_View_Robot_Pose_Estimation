{
 "cells": [
  {
   "cell_type": "code",
   "execution_count": null,
   "id": "a1936dbf",
   "metadata": {},
   "outputs": [],
   "source": [
    "import os\n",
    "import pandas as pd\n",
    "\n",
    "view = 'front'\n",
    "cams = 'leftcam'\n",
    "\n",
    "# 사진보고 계산됨\n",
    "Tvec = [0, -0.01, 0]\n",
    "Rvec = [96, 98,-45]\n",
    "summary = []\n",
    "summary.append([view, cams, *Tvec, *Rvec])\n",
    "columns = [\"view\", \"cam\", \"tvec_x\", \"tvec_y\", \"tvec_z\", \"rvec_x\", \"rvec_y\", \"rvec_z\"]\n",
    "df = pd.DataFrame(summary, columns=columns)\n",
    "\n",
    "output_dir = \"./Meca500\"\n",
    "os.makedirs(output_dir, exist_ok=True)\n",
    "output_path = os.path.join(output_dir, \"aruco_pose_summary.json\")\n",
    "df.to_json(output_path, orient=\"records\", indent=2)"
   ]
  },
  {
   "cell_type": "code",
   "execution_count": null,
   "id": "9421805c",
   "metadata": {},
   "outputs": [],
   "source": []
  }
 ],
 "metadata": {
  "kernelspec": {
   "display_name": "dip",
   "language": "python",
   "name": "python3"
  },
  "language_info": {
   "codemirror_mode": {
    "name": "ipython",
    "version": 3
   },
   "file_extension": ".py",
   "mimetype": "text/x-python",
   "name": "python",
   "nbconvert_exporter": "python",
   "pygments_lexer": "ipython3",
   "version": "3.10.15"
  }
 },
 "nbformat": 4,
 "nbformat_minor": 5
}
